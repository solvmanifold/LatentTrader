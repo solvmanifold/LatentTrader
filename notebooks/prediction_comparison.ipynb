{
 "cells": [
  {
   "cell_type": "code",
   "execution_count": 19,
   "id": "380cb70f-e155-41b4-a32e-5bd7e1d19238",
   "metadata": {},
   "outputs": [
    {
     "name": "stdout",
     "output_type": "stream",
     "text": [
      "         Date ticker_symbol  label  predicted_label  predicted_proba\n",
      "15 2024-03-12           AMD    0.0              1.0         0.663641\n",
      "16 2024-03-13           AMD    0.0              1.0         0.640941\n",
      "17 2024-03-14           AMD    0.0              1.0         0.715609\n",
      "18 2024-03-15           AMD    0.0              1.0         0.741966\n",
      "19 2024-03-18           AMD    0.0              1.0         0.745376\n",
      "\n",
      "Row for comparison:\n",
      "        Date ticker_symbol  label  predicted_label  predicted_proba\n",
      "4 2023-12-26           AMD    0.0              0.0         0.474908\n"
     ]
    }
   ],
   "source": [
    "import pandas as pd\n",
    "import json\n",
    "\n",
    "# Load the predictions\n",
    "pred_path = \"../model_outputs/logistic2/large_test/test_predictions.parquet\"\n",
    "df = pd.read_parquet(pred_path)\n",
    "\n",
    "# Load ticker mappings\n",
    "with open(\"../data/ml_datasets/large_test/feature_mappings.json\", 'r') as f:\n",
    "    mappings = json.load(f)\n",
    "    \n",
    "# Create reverse mapping (code -> ticker)\n",
    "ticker_mapping = {v: k for k, v in mappings['ticker'].items()}\n",
    "\n",
    "# Map ticker codes to symbols\n",
    "df['ticker_symbol'] = df['ticker'].map(ticker_mapping)\n",
    "\n",
    "# Show the first few rows with mapped tickers\n",
    "print(df[['Date', 'ticker_symbol', 'label', 'predicted_label', 'predicted_proba']].tail())\n",
    "\n",
    "# Compare a specific row\n",
    "date = \"2023-12-26\"   # Example date\n",
    "ticker = \"AMD\"       # Example ticker\n",
    "\n",
    "# Find the row for this date and ticker\n",
    "row = df[(df['Date'] == date) & (df['ticker_symbol'] == ticker)]\n",
    "if not row.empty:\n",
    "    print(\"\\nRow for comparison:\")\n",
    "    print(row[['Date', 'ticker_symbol', 'label', 'predicted_label', 'predicted_proba']])\n",
    "else:\n",
    "    print(f\"\\nNo row found for {ticker} on {date}\")\n",
    "    \n",
    "    # Show available dates for this ticker\n",
    "    ticker_rows = df[df['ticker_symbol'] == ticker]\n",
    "    if not ticker_rows.empty:\n",
    "        print(f\"\\nAvailable dates for {ticker}:\")\n",
    "        print(ticker_rows['Date'].sort_values().head())\n",
    "        "
   ]
  },
  {
   "cell_type": "code",
   "execution_count": 5,
   "id": "81d030ea-6e46-43f4-aeed-64b2da1573ee",
   "metadata": {},
   "outputs": [
    {
     "name": "stdout",
     "output_type": "stream",
     "text": [
      "Columns: ['Open', 'High', 'Low', 'Close', 'Volume', 'RSI', 'MACD', 'MACD_Signal', 'MACD_Hist', 'BB_Upper', 'BB_Lower', 'BB_Middle', 'BB_Pband', 'SMA_20', 'SMA_50', 'SMA_100', 'SMA_200', 'EMA_100', 'EMA_200', 'adv_dec_line_daily_breadth', 'new_highs_daily_breadth', 'new_lows_daily_breadth', 'above_ma20_daily_breadth', 'above_ma50_daily_breadth', 'rsi_bullish_daily_breadth', 'rsi_oversold_daily_breadth', 'rsi_overbought_daily_breadth', 'macd_bullish_daily_breadth', 'vix_market_volatility', 'market_volatility_market_volatility', 'cross_sectional_vol_market_volatility', 'vix_ma20_market_volatility', 'vix_std20_market_volatility', 'vol_of_vol_market_volatility', 'sentiment_ma5_market_sentiment', 'sentiment_ma20_market_sentiment', 'sentiment_momentum_market_sentiment', 'sentiment_volatility_market_sentiment', 'sentiment_zscore_market_sentiment', 'avg_tone_gdelt_raw', 'price_sector', 'volatility_sector', 'volume_sector', 'returns_1d_sector', 'returns_5d_sector', 'returns_20d_sector', 'momentum_5d_sector', 'momentum_20d_sector', 'label', 'predicted_label', 'predicted_proba', 'Date', 'ticker']\n",
      "Index: [None]\n",
      "       Open      High       Low     Close    Volume      RSI      MACD  \\\n",
      "0 -0.600976 -0.601506  2.183159 -0.596415 -0.449105  0.02458  0.018373   \n",
      "1 -0.610662 -0.591882  1.774191 -0.570276 -0.440746  0.02458  0.018373   \n",
      "2 -0.618536 -0.583292  1.484105 -0.547609 -0.436179  0.02458  0.018373   \n",
      "3 -0.630405 -0.572701  1.596494 -0.517802 -0.392058  0.02458  0.018373   \n",
      "4 -0.632381 -0.563718  1.101556 -0.499481 -0.421813  0.02458  0.018373   \n",
      "\n",
      "   MACD_Signal  MACD_Hist  BB_Upper  ...  returns_1d_sector  \\\n",
      "0    -0.436412  -0.442380  0.498269  ...           0.395266   \n",
      "1    -0.446009  -0.436608  0.632880  ...           0.297073   \n",
      "2    -0.450511  -0.430660  0.736111  ...           0.151672   \n",
      "3    -0.404988  -0.420165  0.870047  ...           0.087469   \n",
      "4    -0.411018  -0.412073  0.921051  ...           0.004382   \n",
      "\n",
      "   returns_5d_sector  returns_20d_sector  momentum_5d_sector  \\\n",
      "0           0.024930            2.726175           -0.549298   \n",
      "1           0.001560            2.388702           -0.551121   \n",
      "2           0.059002            1.859434           -0.547372   \n",
      "3           0.042254            1.048911           -0.544426   \n",
      "4           0.117438            1.116396           -0.549456   \n",
      "\n",
      "   momentum_20d_sector  label  predicted_label  predicted_proba       Date  \\\n",
      "0             1.356546    1.0                1         0.648414 2020-08-03   \n",
      "1             0.965635    0.0                1         0.572624 2020-08-04   \n",
      "2             0.493495    1.0                1         0.541865 2020-08-05   \n",
      "3             0.736533    0.0                1         0.530849 2020-08-06   \n",
      "4             0.965062    1.0                0         0.483890 2020-08-07   \n",
      "\n",
      "   ticker  \n",
      "0       0  \n",
      "1       0  \n",
      "2       0  \n",
      "3       0  \n",
      "4       0  \n",
      "\n",
      "[5 rows x 53 columns]\n"
     ]
    }
   ],
   "source": [
    "import pandas as pd\n",
    "\n",
    "pred_path = \"../model_outputs/logistic2/large_test/test_predictions.parquet\"\n",
    "df = pd.read_parquet(pred_path)\n",
    "\n",
    "print(\"Columns:\", df.columns.tolist())\n",
    "print(\"Index:\", df.index.names)\n",
    "print(df.head())"
   ]
  },
  {
   "cell_type": "code",
   "execution_count": null,
   "id": "001a50aa-db78-48d4-8975-6f7a83a312fd",
   "metadata": {},
   "outputs": [],
   "source": []
  }
 ],
 "metadata": {
  "kernelspec": {
   "display_name": "Python 3 (ipykernel)",
   "language": "python",
   "name": "python3"
  },
  "language_info": {
   "codemirror_mode": {
    "name": "ipython",
    "version": 3
   },
   "file_extension": ".py",
   "mimetype": "text/x-python",
   "name": "python",
   "nbconvert_exporter": "python",
   "pygments_lexer": "ipython3",
   "version": "3.9.21"
  }
 },
 "nbformat": 4,
 "nbformat_minor": 5
}
